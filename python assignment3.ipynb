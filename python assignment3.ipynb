{
 "cells": [
  {
   "cell_type": "markdown",
   "metadata": {},
   "source": [
    "1.1.Write a Python Program to implement your own myreduce()function which works exactly like Python's build-in function reduce()"
   ]
  },
  {
   "cell_type": "code",
   "execution_count": 1,
   "metadata": {},
   "outputs": [
    {
     "name": "stdout",
     "output_type": "stream",
     "text": [
      "Sum of all element in list a : 15\n",
      "Product of all elements in list a : 120\n",
      "division of all elements in list a: 0.008333333333333333\n"
     ]
    }
   ],
   "source": [
    "def myreduce(func, arrlist):\n",
    "    x = arrlist[0]\n",
    "    \n",
    "     \n",
    "    \n",
    "    for i in range(1, len(arrlist)):\n",
    "        x = func(x, arrlist[i])\n",
    "    \n",
    "    return x\n",
    "\n",
    "def sum(x, y):\n",
    "    return x + y\n",
    "\n",
    "def Product(x, y):\n",
    "    return(x * y)\n",
    "\n",
    "def division(x, y):\n",
    "    return(x / y)\n",
    "\n",
    "a = [1, 2, 3, 4, 5]\n",
    "\n",
    "print(\"Sum of all element in list a :\", myreduce(sum, a))\n",
    "print(\"Product of all elements in list a :\", myreduce(Product, a))\n",
    "print(\"division of all elements in list a:\", myreduce(division, a))"
   ]
  },
  {
   "cell_type": "markdown",
   "metadata": {},
   "source": [
    "1.2 Write a Python program to implement your own myfilter() function which works exactly like Python's built-in function filter()"
   ]
  },
  {
   "cell_type": "code",
   "execution_count": 5,
   "metadata": {},
   "outputs": [
    {
     "name": "stdout",
     "output_type": "stream",
     "text": [
      "Filter the positive Integers [0,1,2,-3,-4,5] using filter function[1, 2, 5]\n"
     ]
    }
   ],
   "source": [
    "def myfilter(myfun, sequence):\n",
    "\n",
    " \n",
    " result = []\n",
    "    \n",
    "\n",
    " for item in sequence:\n",
    "  if myfun(item):\n",
    "   result.append(item)\n",
    "\n",
    "\n",
    " return result\n",
    "\n",
    "\n",
    "def positive(x):\n",
    " if (x <= 0): \n",
    "  return False \n",
    " else: \n",
    "  return True\n",
    "\n",
    "print (\"Filter the positive Integers [0,1,2,-3,-4,5] using filter function\"  + str(myfilter(positive, [0,1,2,-3,-4,5])))"
   ]
  },
  {
   "cell_type": "markdown",
   "metadata": {},
   "source": [
    "2. Implement List comprehensions to produce the following lists.\n",
    "\n",
    "Write List comprehensions to produce the following Lists.\n",
    "\n",
    "\n",
    "\n",
    "['x', 'xx', 'xxx', 'xxxx', 'y', 'yy', 'yyy', 'yyyy', 'z', 'zz', 'zzz', 'zzzz']\n",
    "\n",
    "['x', 'y', 'z', 'xx', 'yy', 'zz', 'xxx', 'yyy', 'zzz', 'xxxx', 'yyyy', 'zzzz']\n",
    "\n",
    "[[2], [3], [4], [3], [4], [5], [4], [5], [6]] [[2,3,4,5], [3,4,5,6], [4,5,6,7], [5,6,7,8]]\n",
    "\n",
    "[(1, 1), (2, 1), (3, 1), (1, 2), (2, 2), (3, 2), (1, 3), (2, 3), (3, 3)]"
   ]
  },
  {
   "cell_type": "code",
   "execution_count": 9,
   "metadata": {},
   "outputs": [
    {
     "name": "stdout",
     "output_type": "stream",
     "text": [
      "['x','y','z'] => ['x', 'xx', 'xxx', 'xxxx', 'y', 'yy', 'yyy', 'yyyy', 'z', 'zz', 'zzz', 'zzzz']\n",
      "['x','y','z'] => ['x', 'y', 'z', 'xx', 'yy', 'zz', 'xxx', 'yyy', 'zzz', 'xxxx', 'yyyy', 'zzzz']\n",
      "[2,3,4] =>[[2], [3], [4], [3], [4], [5], [4], [5], [6]]\n",
      "[2,3,4,5] =>[[2, 3, 4, 5], [3, 4, 5, 6], [4, 5, 6, 7], [5, 6, 7, 8]]\n",
      "[1,2,3] =>[(1, 1), (2, 1), (3, 1), (1, 2), (2, 2), (3, 2), (1, 3), (2, 3), (3, 3)]\n"
     ]
    }
   ],
   "source": [
    "list = ['x','y','z']\n",
    "result = [ item*num for item in list for num in range(1,5)  ]\n",
    "print(\"['x','y','z'] => \" +   str(result))\n",
    "\n",
    "\n",
    "list = ['x','y','z']\n",
    "result = [ item*num for num in range(1,5) for item in list  ]\n",
    "print(\"['x','y','z'] => \" +   str(result))\n",
    "\n",
    "\n",
    "list = [2,3,4]\n",
    "result = [ [item+num] for item in list for num in range(0,3)]\n",
    "print(\"[2,3,4] =>\" +  str(result))\n",
    "\n",
    "\n",
    "list = [2,3,4,5]\n",
    "result = [ [item+num for item in list] for num in range(0,4)  ]\n",
    "print(\"[2,3,4,5] =>\" +  str(result))\n",
    "\n",
    "\n",
    "list=[1,2,3]\n",
    "result = [ (b,a) for a in input_list for b in list]\n",
    "print(\"[1,2,3] =>\" +  str(result))\n"
   ]
  },
  {
   "cell_type": "code",
   "execution_count": null,
   "metadata": {},
   "outputs": [],
   "source": []
  }
 ],
 "metadata": {
  "kernelspec": {
   "display_name": "Python 3",
   "language": "python",
   "name": "python3"
  },
  "language_info": {
   "codemirror_mode": {
    "name": "ipython",
    "version": 3
   },
   "file_extension": ".py",
   "mimetype": "text/x-python",
   "name": "python",
   "nbconvert_exporter": "python",
   "pygments_lexer": "ipython3",
   "version": "3.7.6"
  }
 },
 "nbformat": 4,
 "nbformat_minor": 4
}
